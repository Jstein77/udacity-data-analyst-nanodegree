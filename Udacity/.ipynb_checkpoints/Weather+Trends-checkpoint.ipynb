{
 "cells": [
  {
   "cell_type": "markdown",
   "metadata": {},
   "source": [
    "## Data analyst nanodegree project 1 \n",
    "\n",
    "*Outline:*\n",
    "The purpose of this analyses was to compare temperature trends in my home city of San Francisco with world temperature trends.\n",
    "\n",
    "The temperature date was provided in a data base with 3 schema; city_list, city_data and global_data. \n",
    "\n",
    "To extract the appropriate data I used two SQL queries:\n",
    " - To extract city data: ```\n",
    " SELECT * FROM city_data WHERE city LIKE '%San Francisco%'```\n",
    " - ```To extract global date: SELECT * FROM global_data```\n",
    "\n",
    "I then calculated a 5-year moving average for both data sets in excel using the average function as shown below:\n",
    "![alt text](https://i.imgur.com/p3LIFDB.png \"Logo Title Text 1\")\n",
    "\n",
    "Now that I had my data in the correct format, I chose to visualize it using python. Since this is time series data, and we are looking to observe trends over time a line graph seemed appropriate.\n",
    "First I graphed the untransformed data:\n",
    "\n"
   ]
  },
  {
   "cell_type": "markdown",
   "metadata": {},
   "source": [
    "## First I graphed the untransformed data for San Francisco vs the World average by year"
   ]
  },
  {
   "cell_type": "code",
   "execution_count": 2,
   "metadata": {
    "scrolled": false
   },
   "outputs": [
    {
     "data": {
      "text/html": [
       "<iframe id=\"igraph\" scrolling=\"no\" style=\"border:none;\" seamless=\"seamless\" src=\"https://plot.ly/~JordanStein/6.embed\" height=\"525px\" width=\"100%\"></iframe>"
      ],
      "text/plain": [
       "<plotly.tools.PlotlyDisplay object>"
      ]
     },
     "execution_count": 2,
     "metadata": {},
     "output_type": "execute_result"
    }
   ],
   "source": [
    "import pandas as pd\n",
    "import numpy as np\n",
    "import plotly\n",
    "import plotly.plotly as py\n",
    "import plotly.graph_objs as go\n",
    "import plotly.figure_factory as FF\n",
    "plotly.tools.set_credentials_file(username='JordanStein', api_key='hAdgKhJyKLgGEdt95qe1')\n",
    "\n",
    "\n",
    "sf_temps = pd.read_csv('/Users/jordanstein/udacity-data-analyst-nanodegree/Udacity/City_data_copy.csv')\n",
    "world_temps = pd.read_csv('/Users/jordanstein/udacity-data-analyst-nanodegree/Udacity/global_data_copy.csv')\n",
    "\n",
    "sample_table = FF.create_table(sf_temps.head())\n",
    "py.iplot(sample_table, filename = 'sample_table')\n",
    "\n",
    "trace1 = go.Scatter(\n",
    "                    x=sf_temps['year'], y=sf_temps['avg_temp'], # Data\n",
    "                    mode='lines', name='San Francisco' # Additional options\n",
    "                   )\n",
    "\n",
    "trace2 = go.Scatter(\n",
    "                    x=world_temps['year'], y=world_temps['avg_temp'], # Data\n",
    "                    mode='lines', name='World' # Additional options\n",
    "                   )\n",
    "\n",
    "layout = go.Layout(title='Average temprature',\n",
    "    xaxis=dict(\n",
    "        title='Year',\n",
    "        titlefont=dict(\n",
    "            family='Courier New, monospace',\n",
    "            size=18,\n",
    "            color='#7f7f7f'\n",
    "        )\n",
    "    ),\n",
    "    yaxis=dict(\n",
    "        title='Temperature',\n",
    "        titlefont=dict(\n",
    "            family='Courier New, monospace',\n",
    "            size=18,\n",
    "            color='#7f7f7f'\n",
    "        )\n",
    "    ),\n",
    "                   plot_bgcolor='rgb(230, 230,230)')\n",
    "\n",
    "fig = go.Figure(data=[trace1, trace2], layout=layout)\n",
    "py.iplot(fig, filename='Average temprature')\n",
    "\n",
    "\n",
    "\n",
    " "
   ]
  },
  {
   "cell_type": "markdown",
   "metadata": {},
   "source": [
    "## To better observe the temperature trend we take a five year moving average for temperature"
   ]
  },
  {
   "cell_type": "code",
   "execution_count": 3,
   "metadata": {},
   "outputs": [
    {
     "data": {
      "text/html": [
       "<iframe id=\"igraph\" scrolling=\"no\" style=\"border:none;\" seamless=\"seamless\" src=\"https://plot.ly/~JordanStein/6.embed\" height=\"525px\" width=\"100%\"></iframe>"
      ],
      "text/plain": [
       "<plotly.tools.PlotlyDisplay object>"
      ]
     },
     "execution_count": 3,
     "metadata": {},
     "output_type": "execute_result"
    }
   ],
   "source": [
    "import pandas as pd\n",
    "import numpy as np\n",
    "import plotly\n",
    "import plotly.plotly as py\n",
    "import plotly.graph_objs as go\n",
    "import plotly.figure_factory as FF\n",
    "plotly.tools.set_credentials_file(username='JordanStein', api_key='hAdgKhJyKLgGEdt95qe1')\n",
    "\n",
    "\n",
    "#Read data from csv\n",
    "sf_temps = pd.read_csv(\"/Users/jordanstein/udacity-data-analyst-nanodegree/Udacity/City_data.csv\")\n",
    "world_temps = pd.read_csv(\"/Users/jordanstein/udacity-data-analyst-nanodegree/Udacity/global_data.csv\")\n",
    "\n",
    "\n",
    "sample_table = FF.create_table(sf_temps.head())\n",
    "py.iplot(sample_table, filename = 'sample_table')\n",
    "\n",
    "trace1 = go.Scatter(\n",
    "                    x=sf_temps['year'], y=sf_temps['avg_temp'], # Data\n",
    "                    mode='lines', name='5yr average San Francisco' # Additional options\n",
    "                   )\n",
    "\n",
    "trace2 = go.Scatter(\n",
    "                    x=world_temps['year'], y=world_temps['avg_temp'], # Data\n",
    "                    mode='lines', name='5yr average World' # Additional options\n",
    "                   )\n",
    "\n",
    "layout = go.Layout(title='Average temprature',\n",
    "    xaxis=dict(\n",
    "        title='Year',\n",
    "        titlefont=dict(\n",
    "            family='Courier New, monospace',\n",
    "            size=18,\n",
    "            color='#7f7f7f'\n",
    "        )\n",
    "    ),\n",
    "    yaxis=dict(\n",
    "        title='Temperature',\n",
    "        titlefont=dict(\n",
    "            family='Courier New, monospace',\n",
    "            size=18,\n",
    "            color='#7f7f7f'\n",
    "        )\n",
    "    ),\n",
    "                   plot_bgcolor='rgb(230, 230,230)')\n",
    "\n",
    "fig = go.Figure(data=[trace1, trace2], layout=layout)\n",
    "py.iplot(fig, filename='Average temprature')"
   ]
  },
  {
   "cell_type": "markdown",
   "metadata": {},
   "source": [
    "## Observations\n",
    "1. There is a clear upward trend in both the San Francisco and World average temprature.\n",
    "2. All maximum temperature values for both locations occured after 2000. \n",
    "3. Taking the 5 year moving average removes the volitility in yearly temprature changes and makes the upward trend in temperatrue more apparent\n",
    "4. The slope of temprature increase seems to increase after 2000, this change is more apparent in world temprtures, and less stark in San Francisco.\n",
    "5. San Francisco seems to be warming slower than the global average, possibly due to the moderating effect of the ocean.\n",
    " \n",
    "\n"
   ]
  }
 ],
 "metadata": {
  "kernelspec": {
   "display_name": "Python 3",
   "language": "python",
   "name": "python3"
  },
  "language_info": {
   "codemirror_mode": {
    "name": "ipython",
    "version": 3
   },
   "file_extension": ".py",
   "mimetype": "text/x-python",
   "name": "python",
   "nbconvert_exporter": "python",
   "pygments_lexer": "ipython3",
   "version": "3.6.3"
  }
 },
 "nbformat": 4,
 "nbformat_minor": 2
}
