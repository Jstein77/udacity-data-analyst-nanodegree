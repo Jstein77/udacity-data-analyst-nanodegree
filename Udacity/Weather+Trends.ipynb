{
 "cells": [
  {
   "cell_type": "markdown",
   "metadata": {},
   "source": [
    "## Here, we plot the average temprature for San Francisco vs the World average by year"
   ]
  },
  {
   "cell_type": "code",
   "execution_count": 28,
   "metadata": {
    "scrolled": false
   },
   "outputs": [
    {
     "data": {
      "text/html": [
       "<iframe id=\"igraph\" scrolling=\"no\" style=\"border:none;\" seamless=\"seamless\" src=\"https://plot.ly/~JordanStein/6.embed\" height=\"525px\" width=\"100%\"></iframe>"
      ],
      "text/plain": [
       "<plotly.tools.PlotlyDisplay object>"
      ]
     },
     "execution_count": 28,
     "metadata": {},
     "output_type": "execute_result"
    }
   ],
   "source": [
    "import pandas as pd\n",
    "import numpy as np\n",
    "import plotly \n",
    "import plotly.plotly as py\n",
    "import plotly.graph_objs as go\n",
    "import plotly.figure_factory as FF\n",
    "plotly.tools.set_credentials_file(username='JordanStein', api_key='hAdgKhJyKLgGEdt95qe1')\n",
    "\n",
    "\n",
    "#Read data from csv\n",
    "sf_temps = pd.read_csv(\"/Users/jordanstein/Udacity/City_data_copy.csv\")\n",
    "world_temps = pd.read_csv(\"/Users/jordanstein/udacity/global_data_copy.csv\")\n",
    "\n",
    "sample_table = FF.create_table(sf_temps.head())\n",
    "py.iplot(sample_table, filename = 'sample_table')\n",
    "\n",
    "trace1 = go.Scatter(\n",
    "                    x=sf_temps['year'], y=sf_temps['avg_temp'], # Data\n",
    "                    mode='lines', name='San Francisco' # Additional options\n",
    "                   )\n",
    "\n",
    "trace2 = go.Scatter(\n",
    "                    x=world_temps['year'], y=world_temps['avg_temp'], # Data\n",
    "                    mode='lines', name='World' # Additional options\n",
    "                   )\n",
    "\n",
    "layout = go.Layout(title='Average temprature',\n",
    "    xaxis=dict(\n",
    "        title='Year',\n",
    "        titlefont=dict(\n",
    "            family='Courier New, monospace',\n",
    "            size=18,\n",
    "            color='#7f7f7f'\n",
    "        )\n",
    "    ),\n",
    "    yaxis=dict(\n",
    "        title='Temperature',\n",
    "        titlefont=dict(\n",
    "            family='Courier New, monospace',\n",
    "            size=18,\n",
    "            color='#7f7f7f'\n",
    "        )\n",
    "    ),\n",
    "                   plot_bgcolor='rgb(230, 230,230)')\n",
    "\n",
    "fig = go.Figure(data=[trace1, trace2], layout=layout)\n",
    "py.iplot(fig, filename='Average temprature')\n",
    "\n",
    "\n",
    "\n",
    " "
   ]
  },
  {
   "cell_type": "markdown",
   "metadata": {},
   "source": [
    "## To better observe the temperature trend we take a five year moving average for temperature"
   ]
  },
  {
   "cell_type": "code",
   "execution_count": 29,
   "metadata": {},
   "outputs": [
    {
     "data": {
      "text/html": [
       "<iframe id=\"igraph\" scrolling=\"no\" style=\"border:none;\" seamless=\"seamless\" src=\"https://plot.ly/~JordanStein/6.embed\" height=\"525px\" width=\"100%\"></iframe>"
      ],
      "text/plain": [
       "<plotly.tools.PlotlyDisplay object>"
      ]
     },
     "execution_count": 29,
     "metadata": {},
     "output_type": "execute_result"
    }
   ],
   "source": [
    "import pandas as pd\n",
    "import numpy as np\n",
    "import plotly \n",
    "import plotly.plotly as py\n",
    "import plotly.graph_objs as go\n",
    "import plotly.figure_factory as FF\n",
    "plotly.tools.set_credentials_file(username='JordanStein', api_key='hAdgKhJyKLgGEdt95qe1')\n",
    "\n",
    "\n",
    "#Read data from csv\n",
    "sf_temps = pd.read_csv(\"/Users/jordanstein/Udacity/City_data.csv\")\n",
    "world_temps = pd.read_csv(\"/Users/jordanstein/udacity/global_data.csv\")\n",
    "\n",
    "sample_table = FF.create_table(sf_temps.head())\n",
    "py.iplot(sample_table, filename = 'sample_table')\n",
    "\n",
    "trace1 = go.Scatter(\n",
    "                    x=sf_temps['year'], y=sf_temps['avg_temp'], # Data\n",
    "                    mode='lines', name='5yr average San Francisco' # Additional options\n",
    "                   )\n",
    "\n",
    "trace2 = go.Scatter(\n",
    "                    x=world_temps['year'], y=world_temps['avg_temp'], # Data\n",
    "                    mode='lines', name='5yr average World' # Additional options\n",
    "                   )\n",
    "\n",
    "layout = go.Layout(title='Average temprature',\n",
    "    xaxis=dict(\n",
    "        title='Year',\n",
    "        titlefont=dict(\n",
    "            family='Courier New, monospace',\n",
    "            size=18,\n",
    "            color='#7f7f7f'\n",
    "        )\n",
    "    ),\n",
    "    yaxis=dict(\n",
    "        title='Temperature',\n",
    "        titlefont=dict(\n",
    "            family='Courier New, monospace',\n",
    "            size=18,\n",
    "            color='#7f7f7f'\n",
    "        )\n",
    "    ),\n",
    "                   plot_bgcolor='rgb(230, 230,230)')\n",
    "\n",
    "fig = go.Figure(data=[trace1, trace2], layout=layout)\n",
    "py.iplot(fig, filename='Average temprature')"
   ]
  },
  {
   "cell_type": "markdown",
   "metadata": {},
   "source": [
    "## Observations\n",
    "1. There is a clear upward trend in both the San Francisco and World average temprature.\n",
    "2. All maximum temperature values for both locations occured after 2000. \n",
    "3. Taking the 5 year moving average removes the volitility in yearly temprature changes and makes the upward trend in temperatrue more apparent\n",
    "4. The slope of temprature increase seems to increase after 2000, this change is more apparent in world temprtures, and less stark in San Francisco.\n",
    " \n",
    "\n"
   ]
  }
 ],
 "metadata": {
  "kernelspec": {
   "display_name": "Python 3",
   "language": "python",
   "name": "python3"
  },
  "language_info": {
   "codemirror_mode": {
    "name": "ipython",
    "version": 3
   },
   "file_extension": ".py",
   "mimetype": "text/x-python",
   "name": "python",
   "nbconvert_exporter": "python",
   "pygments_lexer": "ipython3",
   "version": "3.6.3"
  }
 },
 "nbformat": 4,
 "nbformat_minor": 2
}
